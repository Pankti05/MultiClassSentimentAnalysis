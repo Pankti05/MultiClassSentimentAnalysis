{
  "nbformat": 4,
  "nbformat_minor": 0,
  "metadata": {
    "colab": {
      "name": "NLP_Assignment2.ipynb",
      "provenance": [],
      "collapsed_sections": [],
      "machine_shape": "hm"
    },
    "kernelspec": {
      "name": "python3",
      "display_name": "Python 3"
    },
    "accelerator": "GPU"
  },
  "cells": [
    {
      "cell_type": "code",
      "metadata": {
        "id": "AdHbMWx2xtbM",
        "colab_type": "code",
        "outputId": "5443c8e6-7801-41d6-cec5-fcceae04b655",
        "colab": {
          "base_uri": "https://localhost:8080/",
          "height": 234
        }
      },
      "source": [
        "import pandas as pd\n",
        "import numpy as np\n",
        "import matplotlib.pyplot as plt\n",
        "import nltk\n",
        "nltk.download('punkt')\n",
        "nltk.download('stopwords')\n",
        "nltk.download('wordnet')\n",
        "from nltk.corpus import stopwords\n",
        "from nltk.stem import WordNetLemmatizer, PorterStemmer, LancasterStemmer\n",
        "import string\n",
        "#for training\n",
        "from sklearn.svm import LinearSVC\n",
        "from sklearn.metrics import accuracy_score\n",
        "from sklearn import metrics\n",
        "from sklearn.feature_extraction.text import TfidfVectorizer, CountVectorizer\n",
        "from sklearn.model_selection import train_test_split\n",
        "from sklearn.feature_extraction.stop_words import ENGLISH_STOP_WORDS\n",
        "from sklearn.model_selection import cross_val_score\n",
        "from keras.utils import to_categorical"
      ],
      "execution_count": 2,
      "outputs": [
        {
          "output_type": "stream",
          "text": [
            "[nltk_data] Downloading package punkt to /root/nltk_data...\n",
            "[nltk_data]   Unzipping tokenizers/punkt.zip.\n",
            "[nltk_data] Downloading package stopwords to /root/nltk_data...\n",
            "[nltk_data]   Unzipping corpora/stopwords.zip.\n",
            "[nltk_data] Downloading package wordnet to /root/nltk_data...\n",
            "[nltk_data]   Unzipping corpora/wordnet.zip.\n"
          ],
          "name": "stdout"
        },
        {
          "output_type": "stream",
          "text": [
            "/usr/local/lib/python3.6/dist-packages/sklearn/utils/deprecation.py:144: FutureWarning: The sklearn.feature_extraction.stop_words module is  deprecated in version 0.22 and will be removed in version 0.24. The corresponding classes / functions should instead be imported from sklearn.feature_extraction.text. Anything that cannot be imported from sklearn.feature_extraction.text is now part of the private API.\n",
            "  warnings.warn(message, FutureWarning)\n",
            "Using TensorFlow backend.\n"
          ],
          "name": "stderr"
        },
        {
          "output_type": "display_data",
          "data": {
            "text/html": [
              "<p style=\"color: red;\">\n",
              "The default version of TensorFlow in Colab will soon switch to TensorFlow 2.x.<br>\n",
              "We recommend you <a href=\"https://www.tensorflow.org/guide/migrate\" target=\"_blank\">upgrade</a> now \n",
              "or ensure your notebook will continue to use TensorFlow 1.x via the <code>%tensorflow_version 1.x</code> magic:\n",
              "<a href=\"https://colab.research.google.com/notebooks/tensorflow_version.ipynb\" target=\"_blank\">more info</a>.</p>\n"
            ],
            "text/plain": [
              "<IPython.core.display.HTML object>"
            ]
          },
          "metadata": {
            "tags": []
          }
        }
      ]
    },
    {
      "cell_type": "code",
      "metadata": {
        "id": "IIxf2FLgxwrc",
        "colab_type": "code",
        "colab": {}
      },
      "source": [
        "url= 'https://raw.githubusercontent.com/cacoderquan/Sentiment-Analysis-on-the-Rotten-Tomatoes-movie-review-dataset/master/train.tsv'\n",
        "dataset = pd.read_csv(url, sep='\\t')"
      ],
      "execution_count": 0,
      "outputs": []
    },
    {
      "cell_type": "code",
      "metadata": {
        "id": "TNE30LGSzdMn",
        "colab_type": "code",
        "outputId": "95ad990c-0c79-474e-ce3b-80dd65d33636",
        "colab": {
          "base_uri": "https://localhost:8080/",
          "height": 34
        }
      },
      "source": [
        "dataset.shape"
      ],
      "execution_count": 4,
      "outputs": [
        {
          "output_type": "execute_result",
          "data": {
            "text/plain": [
              "(156060, 4)"
            ]
          },
          "metadata": {
            "tags": []
          },
          "execution_count": 4
        }
      ]
    },
    {
      "cell_type": "code",
      "metadata": {
        "id": "3USla5o3zkN3",
        "colab_type": "code",
        "outputId": "9f5aa216-5165-4a16-bc7f-8240304a1a8c",
        "colab": {
          "base_uri": "https://localhost:8080/",
          "height": 343
        }
      },
      "source": [
        "dataset.head(10)"
      ],
      "execution_count": 5,
      "outputs": [
        {
          "output_type": "execute_result",
          "data": {
            "text/html": [
              "<div>\n",
              "<style scoped>\n",
              "    .dataframe tbody tr th:only-of-type {\n",
              "        vertical-align: middle;\n",
              "    }\n",
              "\n",
              "    .dataframe tbody tr th {\n",
              "        vertical-align: top;\n",
              "    }\n",
              "\n",
              "    .dataframe thead th {\n",
              "        text-align: right;\n",
              "    }\n",
              "</style>\n",
              "<table border=\"1\" class=\"dataframe\">\n",
              "  <thead>\n",
              "    <tr style=\"text-align: right;\">\n",
              "      <th></th>\n",
              "      <th>PhraseId</th>\n",
              "      <th>SentenceId</th>\n",
              "      <th>Phrase</th>\n",
              "      <th>Sentiment</th>\n",
              "    </tr>\n",
              "  </thead>\n",
              "  <tbody>\n",
              "    <tr>\n",
              "      <th>0</th>\n",
              "      <td>1</td>\n",
              "      <td>1</td>\n",
              "      <td>A series of escapades demonstrating the adage ...</td>\n",
              "      <td>1</td>\n",
              "    </tr>\n",
              "    <tr>\n",
              "      <th>1</th>\n",
              "      <td>2</td>\n",
              "      <td>1</td>\n",
              "      <td>A series of escapades demonstrating the adage ...</td>\n",
              "      <td>2</td>\n",
              "    </tr>\n",
              "    <tr>\n",
              "      <th>2</th>\n",
              "      <td>3</td>\n",
              "      <td>1</td>\n",
              "      <td>A series</td>\n",
              "      <td>2</td>\n",
              "    </tr>\n",
              "    <tr>\n",
              "      <th>3</th>\n",
              "      <td>4</td>\n",
              "      <td>1</td>\n",
              "      <td>A</td>\n",
              "      <td>2</td>\n",
              "    </tr>\n",
              "    <tr>\n",
              "      <th>4</th>\n",
              "      <td>5</td>\n",
              "      <td>1</td>\n",
              "      <td>series</td>\n",
              "      <td>2</td>\n",
              "    </tr>\n",
              "    <tr>\n",
              "      <th>5</th>\n",
              "      <td>6</td>\n",
              "      <td>1</td>\n",
              "      <td>of escapades demonstrating the adage that what...</td>\n",
              "      <td>2</td>\n",
              "    </tr>\n",
              "    <tr>\n",
              "      <th>6</th>\n",
              "      <td>7</td>\n",
              "      <td>1</td>\n",
              "      <td>of</td>\n",
              "      <td>2</td>\n",
              "    </tr>\n",
              "    <tr>\n",
              "      <th>7</th>\n",
              "      <td>8</td>\n",
              "      <td>1</td>\n",
              "      <td>escapades demonstrating the adage that what is...</td>\n",
              "      <td>2</td>\n",
              "    </tr>\n",
              "    <tr>\n",
              "      <th>8</th>\n",
              "      <td>9</td>\n",
              "      <td>1</td>\n",
              "      <td>escapades</td>\n",
              "      <td>2</td>\n",
              "    </tr>\n",
              "    <tr>\n",
              "      <th>9</th>\n",
              "      <td>10</td>\n",
              "      <td>1</td>\n",
              "      <td>demonstrating the adage that what is good for ...</td>\n",
              "      <td>2</td>\n",
              "    </tr>\n",
              "  </tbody>\n",
              "</table>\n",
              "</div>"
            ],
            "text/plain": [
              "   PhraseId  ...  Sentiment\n",
              "0         1  ...          1\n",
              "1         2  ...          2\n",
              "2         3  ...          2\n",
              "3         4  ...          2\n",
              "4         5  ...          2\n",
              "5         6  ...          2\n",
              "6         7  ...          2\n",
              "7         8  ...          2\n",
              "8         9  ...          2\n",
              "9        10  ...          2\n",
              "\n",
              "[10 rows x 4 columns]"
            ]
          },
          "metadata": {
            "tags": []
          },
          "execution_count": 5
        }
      ]
    },
    {
      "cell_type": "code",
      "metadata": {
        "id": "bB2iLll9zmVR",
        "colab_type": "code",
        "outputId": "9a5de84d-b0fb-49a9-f8b2-ed871d292f2f",
        "colab": {
          "base_uri": "https://localhost:8080/",
          "height": 34
        }
      },
      "source": [
        "print(dataset.isnull().values.any())"
      ],
      "execution_count": 6,
      "outputs": [
        {
          "output_type": "stream",
          "text": [
            "False\n"
          ],
          "name": "stdout"
        }
      ]
    },
    {
      "cell_type": "code",
      "metadata": {
        "id": "_5wi4nRTR9xY",
        "colab_type": "code",
        "outputId": "7da37524-1b97-4b49-eb9a-a1738fb9e091",
        "colab": {
          "base_uri": "https://localhost:8080/",
          "height": 118
        }
      },
      "source": [
        "dataset['Sentiment'].value_counts()"
      ],
      "execution_count": 7,
      "outputs": [
        {
          "output_type": "execute_result",
          "data": {
            "text/plain": [
              "2    79582\n",
              "3    32927\n",
              "1    27273\n",
              "4     9206\n",
              "0     7072\n",
              "Name: Sentiment, dtype: int64"
            ]
          },
          "metadata": {
            "tags": []
          },
          "execution_count": 7
        }
      ]
    },
    {
      "cell_type": "code",
      "metadata": {
        "id": "UWdTRJOt3fSC",
        "colab_type": "code",
        "colab": {}
      },
      "source": [
        "porter = PorterStemmer()\n",
        "lancaster=LancasterStemmer()\n",
        "wordnet_lemmatizer = WordNetLemmatizer()\n",
        "stopwords_en = stopwords.words(\"english\")\n",
        "punctuations=\"?:!.,;'\\\"-()\"\n",
        "#parameters to adjust to see the impact on outcome\n",
        "remove_stopwords = True\n",
        "useStemming = False\n",
        "useLemma = True\n",
        "removePuncs = True"
      ],
      "execution_count": 0,
      "outputs": []
    },
    {
      "cell_type": "code",
      "metadata": {
        "id": "hScCabPYJ45N",
        "colab_type": "code",
        "colab": {}
      },
      "source": [
        "cleanReview=[]\n",
        "for x in range(0,len(dataset['Phrase'].values)):\n",
        "    tmpReview=[]\n",
        "    for w in nltk.word_tokenize(dataset['Phrase'].values[x]):\n",
        "        newWord = str(w).lower() #Set newWork to be the updated word\n",
        "        if remove_stopwords and (w in stopwords_en):#if the word is a stopword & we want to remove stopwords\n",
        "            continue #skip the word and don’t had it to the normalized review\n",
        "        if removePuncs and (w in punctuations):#if the word is a punc. & we want to remove punctuations\n",
        "            continue #skip the word and don’t had it to the normalized review\n",
        "        if useStemming: #if useStemming is set to True\n",
        "            #Keep one stemmer commented out\n",
        "            #newWord = porter.stem(newWord) #User porter stemmer\n",
        "            newWord = lancaster.stem(newWord) #Use Lancaster stemmer\n",
        "        if useLemma:\n",
        "            newWord = wordnet_lemmatizer.lemmatize(newWord)\n",
        "        tmpReview.append(newWord) #Add normalized word to the tmp review\n",
        "    cleanReview.append(' '.join(tmpReview))"
      ],
      "execution_count": 0,
      "outputs": []
    },
    {
      "cell_type": "code",
      "metadata": {
        "id": "_m5CAxFLOEa5",
        "colab_type": "code",
        "outputId": "46bd44cf-ccf5-4b22-a59d-2091eaebc354",
        "colab": {
          "base_uri": "https://localhost:8080/",
          "height": 34
        }
      },
      "source": [
        "len(cleanReview)"
      ],
      "execution_count": 10,
      "outputs": [
        {
          "output_type": "execute_result",
          "data": {
            "text/plain": [
              "156060"
            ]
          },
          "metadata": {
            "tags": []
          },
          "execution_count": 10
        }
      ]
    },
    {
      "cell_type": "code",
      "metadata": {
        "id": "c2z9D84nONUj",
        "colab_type": "code",
        "colab": {}
      },
      "source": [
        "dataset['UpdatedReview']=cleanReview"
      ],
      "execution_count": 0,
      "outputs": []
    },
    {
      "cell_type": "code",
      "metadata": {
        "id": "F6VwvO9WOWde",
        "colab_type": "code",
        "outputId": "9b6b927d-597f-435a-cb57-6dfefff69a50",
        "colab": {
          "base_uri": "https://localhost:8080/",
          "height": 343
        }
      },
      "source": [
        "dataset.head(10)"
      ],
      "execution_count": 12,
      "outputs": [
        {
          "output_type": "execute_result",
          "data": {
            "text/html": [
              "<div>\n",
              "<style scoped>\n",
              "    .dataframe tbody tr th:only-of-type {\n",
              "        vertical-align: middle;\n",
              "    }\n",
              "\n",
              "    .dataframe tbody tr th {\n",
              "        vertical-align: top;\n",
              "    }\n",
              "\n",
              "    .dataframe thead th {\n",
              "        text-align: right;\n",
              "    }\n",
              "</style>\n",
              "<table border=\"1\" class=\"dataframe\">\n",
              "  <thead>\n",
              "    <tr style=\"text-align: right;\">\n",
              "      <th></th>\n",
              "      <th>PhraseId</th>\n",
              "      <th>SentenceId</th>\n",
              "      <th>Phrase</th>\n",
              "      <th>Sentiment</th>\n",
              "      <th>UpdatedReview</th>\n",
              "    </tr>\n",
              "  </thead>\n",
              "  <tbody>\n",
              "    <tr>\n",
              "      <th>0</th>\n",
              "      <td>1</td>\n",
              "      <td>1</td>\n",
              "      <td>A series of escapades demonstrating the adage ...</td>\n",
              "      <td>1</td>\n",
              "      <td>a series escapade demonstrating adage good goo...</td>\n",
              "    </tr>\n",
              "    <tr>\n",
              "      <th>1</th>\n",
              "      <td>2</td>\n",
              "      <td>1</td>\n",
              "      <td>A series of escapades demonstrating the adage ...</td>\n",
              "      <td>2</td>\n",
              "      <td>a series escapade demonstrating adage good goose</td>\n",
              "    </tr>\n",
              "    <tr>\n",
              "      <th>2</th>\n",
              "      <td>3</td>\n",
              "      <td>1</td>\n",
              "      <td>A series</td>\n",
              "      <td>2</td>\n",
              "      <td>a series</td>\n",
              "    </tr>\n",
              "    <tr>\n",
              "      <th>3</th>\n",
              "      <td>4</td>\n",
              "      <td>1</td>\n",
              "      <td>A</td>\n",
              "      <td>2</td>\n",
              "      <td>a</td>\n",
              "    </tr>\n",
              "    <tr>\n",
              "      <th>4</th>\n",
              "      <td>5</td>\n",
              "      <td>1</td>\n",
              "      <td>series</td>\n",
              "      <td>2</td>\n",
              "      <td>series</td>\n",
              "    </tr>\n",
              "    <tr>\n",
              "      <th>5</th>\n",
              "      <td>6</td>\n",
              "      <td>1</td>\n",
              "      <td>of escapades demonstrating the adage that what...</td>\n",
              "      <td>2</td>\n",
              "      <td>escapade demonstrating adage good goose</td>\n",
              "    </tr>\n",
              "    <tr>\n",
              "      <th>6</th>\n",
              "      <td>7</td>\n",
              "      <td>1</td>\n",
              "      <td>of</td>\n",
              "      <td>2</td>\n",
              "      <td></td>\n",
              "    </tr>\n",
              "    <tr>\n",
              "      <th>7</th>\n",
              "      <td>8</td>\n",
              "      <td>1</td>\n",
              "      <td>escapades demonstrating the adage that what is...</td>\n",
              "      <td>2</td>\n",
              "      <td>escapade demonstrating adage good goose</td>\n",
              "    </tr>\n",
              "    <tr>\n",
              "      <th>8</th>\n",
              "      <td>9</td>\n",
              "      <td>1</td>\n",
              "      <td>escapades</td>\n",
              "      <td>2</td>\n",
              "      <td>escapade</td>\n",
              "    </tr>\n",
              "    <tr>\n",
              "      <th>9</th>\n",
              "      <td>10</td>\n",
              "      <td>1</td>\n",
              "      <td>demonstrating the adage that what is good for ...</td>\n",
              "      <td>2</td>\n",
              "      <td>demonstrating adage good goose</td>\n",
              "    </tr>\n",
              "  </tbody>\n",
              "</table>\n",
              "</div>"
            ],
            "text/plain": [
              "   PhraseId  ...                                      UpdatedReview\n",
              "0         1  ...  a series escapade demonstrating adage good goo...\n",
              "1         2  ...   a series escapade demonstrating adage good goose\n",
              "2         3  ...                                           a series\n",
              "3         4  ...                                                  a\n",
              "4         5  ...                                             series\n",
              "5         6  ...            escapade demonstrating adage good goose\n",
              "6         7  ...                                                   \n",
              "7         8  ...            escapade demonstrating adage good goose\n",
              "8         9  ...                                           escapade\n",
              "9        10  ...                     demonstrating adage good goose\n",
              "\n",
              "[10 rows x 5 columns]"
            ]
          },
          "metadata": {
            "tags": []
          },
          "execution_count": 12
        }
      ]
    },
    {
      "cell_type": "code",
      "metadata": {
        "id": "nxEmTrKu1m8s",
        "colab_type": "code",
        "colab": {}
      },
      "source": [
        "X_train, X_test, Y_train, Y_test = train_test_split(dataset['UpdatedReview'],dataset['Sentiment'], test_size=0.3, random_state=2003)"
      ],
      "execution_count": 0,
      "outputs": []
    },
    {
      "cell_type": "code",
      "metadata": {
        "id": "NhMxVDA-2phz",
        "colab_type": "code",
        "outputId": "b2e04276-8a28-4305-b32e-6160049fff2e",
        "colab": {
          "base_uri": "https://localhost:8080/",
          "height": 50
        }
      },
      "source": [
        "#Here, X_train and X_test will have mutually exclusive sets of 109242 and 46818 samples. \n",
        "print(X_train.shape)\n",
        "print(X_test.shape)"
      ],
      "execution_count": 14,
      "outputs": [
        {
          "output_type": "stream",
          "text": [
            "(109242,)\n",
            "(46818,)\n"
          ],
          "name": "stdout"
        }
      ]
    },
    {
      "cell_type": "code",
      "metadata": {
        "id": "BoU5ZSP5PQe9",
        "colab_type": "code",
        "outputId": "8d971782-d564-4d06-d49c-1de03d5e35d9",
        "colab": {
          "base_uri": "https://localhost:8080/",
          "height": 118
        }
      },
      "source": [
        "Y_train.value_counts()"
      ],
      "execution_count": 15,
      "outputs": [
        {
          "output_type": "execute_result",
          "data": {
            "text/plain": [
              "2    55595\n",
              "3    23055\n",
              "1    19203\n",
              "4     6468\n",
              "0     4921\n",
              "Name: Sentiment, dtype: int64"
            ]
          },
          "metadata": {
            "tags": []
          },
          "execution_count": 15
        }
      ]
    },
    {
      "cell_type": "code",
      "metadata": {
        "id": "qU_m1NoJ-uTp",
        "colab_type": "code",
        "colab": {}
      },
      "source": [
        "from sklearn.feature_extraction.text import CountVectorizer , TfidfVectorizer\n",
        "\n",
        "# Transform each text into a vector of word counts\n",
        "#vectorizer_tfid = CountVectorizer(stop_words=\"english\",ngram_range=(1, 3), max_features=4000)\n",
        "#vectorizer_tfid = TfidfVectorizer(stop_words=\"english\",ngram_range=(1, 1))\n",
        "vectorizer_tfid = TfidfVectorizer(ngram_range=(1, 3),max_features=5000)\n",
        "\n",
        "X = vectorizer_tfid.fit_transform(dataset[\"UpdatedReview\"])\n",
        "Y = dataset['Sentiment']\n",
        "x_train = vectorizer_tfid.transform(X_train)\n",
        "y_train = Y_train\n",
        "x_test = vectorizer_tfid.transform(X_test)\n",
        "y_test = Y_test"
      ],
      "execution_count": 0,
      "outputs": []
    },
    {
      "cell_type": "code",
      "metadata": {
        "id": "WkFgNsEp9WF4",
        "colab_type": "code",
        "outputId": "8c789551-18e4-446b-9aaa-08a853864864",
        "colab": {
          "base_uri": "https://localhost:8080/",
          "height": 34
        }
      },
      "source": [
        "x_train.shape,x_test.shape"
      ],
      "execution_count": 17,
      "outputs": [
        {
          "output_type": "execute_result",
          "data": {
            "text/plain": [
              "((109242, 5000), (46818, 5000))"
            ]
          },
          "metadata": {
            "tags": []
          },
          "execution_count": 17
        }
      ]
    },
    {
      "cell_type": "code",
      "metadata": {
        "id": "kJNSxxrCfbdr",
        "colab_type": "code",
        "outputId": "db4c02e4-4209-4e44-bb63-faab6659347b",
        "colab": {
          "base_uri": "https://localhost:8080/",
          "height": 50
        }
      },
      "source": [
        "x_train"
      ],
      "execution_count": 18,
      "outputs": [
        {
          "output_type": "execute_result",
          "data": {
            "text/plain": [
              "<109242x5000 sparse matrix of type '<class 'numpy.float64'>'\n",
              "\twith 391930 stored elements in Compressed Sparse Row format>"
            ]
          },
          "metadata": {
            "tags": []
          },
          "execution_count": 18
        }
      ]
    },
    {
      "cell_type": "code",
      "metadata": {
        "id": "zzJ00PoNBjHx",
        "colab_type": "code",
        "outputId": "2796ce6b-7a98-4970-d632-9ac5f54ea68f",
        "colab": {
          "base_uri": "https://localhost:8080/",
          "height": 50
        }
      },
      "source": [
        "x_train_np = x_train.toarray()\n",
        "y_train_np = np.array(y_train)\n",
        "# Convert the testing data\n",
        "x_test_np = x_test.toarray()\n",
        "y_test_np = np.array(y_test)\n",
        "print(x_train_np.shape)\n",
        "print(y_train_np.shape)"
      ],
      "execution_count": 19,
      "outputs": [
        {
          "output_type": "stream",
          "text": [
            "(109242, 5000)\n",
            "(109242,)\n"
          ],
          "name": "stdout"
        }
      ]
    },
    {
      "cell_type": "code",
      "metadata": {
        "id": "dBYyTi6sFDY5",
        "colab_type": "code",
        "outputId": "70bbc238-cf7d-4d8f-9c0f-a25274ac52bf",
        "colab": {
          "base_uri": "https://localhost:8080/",
          "height": 84
        }
      },
      "source": [
        "x_train_np=x_train_np.reshape(x_train_np.shape[0],x_train_np.shape[1],1)\n",
        "x_test_np=x_test_np.reshape(x_test_np.shape[0],x_test_np.shape[1],1)\n",
        "print(x_train_np.shape)\n",
        "print(x_test_np.shape)\n",
        "\n",
        "y_train_np = to_categorical(y_train_np)\n",
        "print(y_train_np.shape)\n",
        "y_test_np = to_categorical(y_test_np)\n",
        "print(y_test_np.shape)\n"
      ],
      "execution_count": 20,
      "outputs": [
        {
          "output_type": "stream",
          "text": [
            "(109242, 5000, 1)\n",
            "(46818, 5000, 1)\n",
            "(109242, 5)\n",
            "(46818, 5)\n"
          ],
          "name": "stdout"
        }
      ]
    },
    {
      "cell_type": "code",
      "metadata": {
        "id": "ji7E9lZUDJy1",
        "colab_type": "code",
        "colab": {}
      },
      "source": [
        "#bow_feature= pd.DataFrame(x_train_np, columns=vectorizer.get_feature_names())\n",
        "#bow_feature.head(30)"
      ],
      "execution_count": 0,
      "outputs": []
    },
    {
      "cell_type": "code",
      "metadata": {
        "id": "nKoeXxupEmq2",
        "colab_type": "code",
        "colab": {}
      },
      "source": [
        "from keras import backend as K\n",
        "def recall_m(y_true, y_pred):\n",
        "  true_positives = K.sum(K.round(K.clip(y_true*y_pred, 0, 1)))\n",
        "  possible_positives = K.sum(K.round(K.clip(y_true, 0 ,1)))\n",
        "  recall = true_positives / (possible_positives + K.epsilon())\n",
        "  return recall\n",
        "\n",
        "def precision_m(y_true, y_pred):\n",
        "  true_positives = K.sum(K.round(K.clip(y_true*y_pred, 0, 1)))\n",
        "  predicted_positives = K.sum(K.round(K.clip(y_pred, 0 ,1)))\n",
        "  precision = true_positives / (predicted_positives + K.epsilon())\n",
        "  return precision\n",
        "\n",
        "def f1_m(y_true, y_pred):\n",
        "  precision = precision_m(y_true, y_pred)\n",
        "  recall = recall_m(y_true, y_pred)\n",
        "  return 2*((precision*recall)/(precision+recall+K.epsilon()))"
      ],
      "execution_count": 0,
      "outputs": []
    },
    {
      "cell_type": "code",
      "metadata": {
        "id": "Pi67svqLE0pO",
        "colab_type": "code",
        "colab": {}
      },
      "source": [
        "from keras.models import Sequential\n",
        "from keras import layers\n",
        "from keras.layers import Dense, Conv1D, Flatten, MaxPooling1D, Dropout\n",
        "from keras.layers import Activation\n",
        "from keras.layers import AveragePooling1D\n",
        "from keras import optimizers"
      ],
      "execution_count": 0,
      "outputs": []
    },
    {
      "cell_type": "code",
      "metadata": {
        "id": "cMBBvJhSE-y-",
        "colab_type": "code",
        "colab": {
          "base_uri": "https://localhost:8080/",
          "height": 289
        },
        "outputId": "a6b0e141-9736-48b2-fd33-80e01778cf56"
      },
      "source": [
        "cnn_model = Sequential()\n",
        "#cnn_model.add(layers.Embedding(1715, 100))\n",
        "cnn_model.add(Conv1D(filters=128, kernel_size=1, activation='tanh',input_shape=(x_train_np.shape[1],x_train_np.shape[2])))\n",
        "cnn_model.add(MaxPooling1D(pool_size=2))\n",
        "cnn_model.add(AveragePooling1D(pool_size=2))\n",
        "cnn_model.add(Dropout(0.2))\n",
        "cnn_model.add(Conv1D(filters=64, kernel_size=1, activation='relu'))\n",
        "cnn_model.add(Flatten())\n",
        "cnn_model.add(layers.Dense(5, activation='softmax'))"
      ],
      "execution_count": 24,
      "outputs": [
        {
          "output_type": "stream",
          "text": [
            "WARNING:tensorflow:From /usr/local/lib/python3.6/dist-packages/keras/backend/tensorflow_backend.py:66: The name tf.get_default_graph is deprecated. Please use tf.compat.v1.get_default_graph instead.\n",
            "\n",
            "WARNING:tensorflow:From /usr/local/lib/python3.6/dist-packages/keras/backend/tensorflow_backend.py:541: The name tf.placeholder is deprecated. Please use tf.compat.v1.placeholder instead.\n",
            "\n",
            "WARNING:tensorflow:From /usr/local/lib/python3.6/dist-packages/keras/backend/tensorflow_backend.py:4432: The name tf.random_uniform is deprecated. Please use tf.random.uniform instead.\n",
            "\n",
            "WARNING:tensorflow:From /usr/local/lib/python3.6/dist-packages/keras/backend/tensorflow_backend.py:4267: The name tf.nn.max_pool is deprecated. Please use tf.nn.max_pool2d instead.\n",
            "\n",
            "WARNING:tensorflow:From /usr/local/lib/python3.6/dist-packages/keras/backend/tensorflow_backend.py:4271: The name tf.nn.avg_pool is deprecated. Please use tf.nn.avg_pool2d instead.\n",
            "\n",
            "WARNING:tensorflow:From /usr/local/lib/python3.6/dist-packages/keras/backend/tensorflow_backend.py:148: The name tf.placeholder_with_default is deprecated. Please use tf.compat.v1.placeholder_with_default instead.\n",
            "\n",
            "WARNING:tensorflow:From /usr/local/lib/python3.6/dist-packages/keras/backend/tensorflow_backend.py:3733: calling dropout (from tensorflow.python.ops.nn_ops) with keep_prob is deprecated and will be removed in a future version.\n",
            "Instructions for updating:\n",
            "Please use `rate` instead of `keep_prob`. Rate should be set to `rate = 1 - keep_prob`.\n"
          ],
          "name": "stdout"
        }
      ]
    },
    {
      "cell_type": "code",
      "metadata": {
        "id": "68Qv8sByDtZp",
        "colab_type": "code",
        "colab": {}
      },
      "source": [
        "#ada = optimizers.Adamax(lr=0.00001, decay=1e-6)"
      ],
      "execution_count": 0,
      "outputs": []
    },
    {
      "cell_type": "code",
      "metadata": {
        "id": "Vs294PUxLe1m",
        "colab_type": "code",
        "outputId": "c67038b3-4f9e-4e28-8bde-282d3731e9cc",
        "colab": {
          "base_uri": "https://localhost:8080/",
          "height": 454
        }
      },
      "source": [
        "cnn_model.compile(optimizer=\"Adadelta\",loss='categorical_crossentropy', metrics=['accuracy',f1_m,precision_m,recall_m])\n",
        "cnn_model.summary()"
      ],
      "execution_count": 26,
      "outputs": [
        {
          "output_type": "stream",
          "text": [
            "WARNING:tensorflow:From /usr/local/lib/python3.6/dist-packages/keras/optimizers.py:793: The name tf.train.Optimizer is deprecated. Please use tf.compat.v1.train.Optimizer instead.\n",
            "\n",
            "WARNING:tensorflow:From /usr/local/lib/python3.6/dist-packages/keras/backend/tensorflow_backend.py:3576: The name tf.log is deprecated. Please use tf.math.log instead.\n",
            "\n",
            "Model: \"sequential_1\"\n",
            "_________________________________________________________________\n",
            "Layer (type)                 Output Shape              Param #   \n",
            "=================================================================\n",
            "conv1d_1 (Conv1D)            (None, 5000, 128)         256       \n",
            "_________________________________________________________________\n",
            "max_pooling1d_1 (MaxPooling1 (None, 2500, 128)         0         \n",
            "_________________________________________________________________\n",
            "average_pooling1d_1 (Average (None, 1250, 128)         0         \n",
            "_________________________________________________________________\n",
            "dropout_1 (Dropout)          (None, 1250, 128)         0         \n",
            "_________________________________________________________________\n",
            "conv1d_2 (Conv1D)            (None, 1250, 64)          8256      \n",
            "_________________________________________________________________\n",
            "flatten_1 (Flatten)          (None, 80000)             0         \n",
            "_________________________________________________________________\n",
            "dense_1 (Dense)              (None, 5)                 400005    \n",
            "=================================================================\n",
            "Total params: 408,517\n",
            "Trainable params: 408,517\n",
            "Non-trainable params: 0\n",
            "_________________________________________________________________\n"
          ],
          "name": "stdout"
        }
      ]
    },
    {
      "cell_type": "code",
      "metadata": {
        "id": "OCC1_m78EZ4Q",
        "colab_type": "code",
        "outputId": "4394c513-291c-40b5-8947-c5eac480125e",
        "colab": {
          "base_uri": "https://localhost:8080/",
          "height": 289
        }
      },
      "source": [
        "#testing results\n",
        "print(cnn_model.metrics_names)\n",
        "cnn_model.evaluate(x_test_np, y_test_np)"
      ],
      "execution_count": 27,
      "outputs": [
        {
          "output_type": "stream",
          "text": [
            "['loss', 'acc', 'f1_m', 'precision_m', 'recall_m']\n",
            "WARNING:tensorflow:From /usr/local/lib/python3.6/dist-packages/keras/backend/tensorflow_backend.py:3005: The name tf.Session is deprecated. Please use tf.compat.v1.Session instead.\n",
            "\n",
            "WARNING:tensorflow:From /usr/local/lib/python3.6/dist-packages/keras/backend/tensorflow_backend.py:190: The name tf.get_default_session is deprecated. Please use tf.compat.v1.get_default_session instead.\n",
            "\n",
            "WARNING:tensorflow:From /usr/local/lib/python3.6/dist-packages/keras/backend/tensorflow_backend.py:197: The name tf.ConfigProto is deprecated. Please use tf.compat.v1.ConfigProto instead.\n",
            "\n",
            "WARNING:tensorflow:From /usr/local/lib/python3.6/dist-packages/keras/backend/tensorflow_backend.py:207: The name tf.global_variables is deprecated. Please use tf.compat.v1.global_variables instead.\n",
            "\n",
            "WARNING:tensorflow:From /usr/local/lib/python3.6/dist-packages/keras/backend/tensorflow_backend.py:216: The name tf.is_variable_initialized is deprecated. Please use tf.compat.v1.is_variable_initialized instead.\n",
            "\n",
            "WARNING:tensorflow:From /usr/local/lib/python3.6/dist-packages/keras/backend/tensorflow_backend.py:223: The name tf.variables_initializer is deprecated. Please use tf.compat.v1.variables_initializer instead.\n",
            "\n",
            "46818/46818 [==============================] - 20s 424us/step\n"
          ],
          "name": "stdout"
        },
        {
          "output_type": "execute_result",
          "data": {
            "text/plain": [
              "[1.6094513139179227, 0.1738006749540775, 0.0, 0.0, 0.0]"
            ]
          },
          "metadata": {
            "tags": []
          },
          "execution_count": 27
        }
      ]
    },
    {
      "cell_type": "code",
      "metadata": {
        "id": "a_sHMoCACmHo",
        "colab_type": "code",
        "outputId": "a82a45ce-495a-4999-e5c5-7e0204fb69f9",
        "colab": {
          "base_uri": "https://localhost:8080/",
          "height": 1000
        }
      },
      "source": [
        "output= cnn_model.fit(x_train_np, y_train_np, epochs=100, verbose=2, validation_split=0.2, batch_size = 512)"
      ],
      "execution_count": 0,
      "outputs": [
        {
          "output_type": "stream",
          "text": [
            "WARNING:tensorflow:From /tensorflow-1.15.0/python3.6/tensorflow_core/python/ops/math_grad.py:1424: where (from tensorflow.python.ops.array_ops) is deprecated and will be removed in a future version.\n",
            "Instructions for updating:\n",
            "Use tf.where in 2.0, which has the same broadcast rule as np.where\n",
            "WARNING:tensorflow:From /usr/local/lib/python3.6/dist-packages/keras/backend/tensorflow_backend.py:1033: The name tf.assign_add is deprecated. Please use tf.compat.v1.assign_add instead.\n",
            "\n",
            "WARNING:tensorflow:From /usr/local/lib/python3.6/dist-packages/keras/backend/tensorflow_backend.py:1020: The name tf.assign is deprecated. Please use tf.compat.v1.assign instead.\n",
            "\n",
            "Train on 87393 samples, validate on 21849 samples\n",
            "Epoch 1/100\n",
            " - 27s - loss: 1.3083 - acc: 0.5054 - f1_m: 0.2741 - precision_m: 0.2771 - recall_m: 0.2739 - val_loss: 1.2918 - val_acc: 0.5083 - val_f1_m: 0.5083 - val_precision_m: 0.5083 - val_recall_m: 0.5083\n",
            "Epoch 2/100\n",
            " - 27s - loss: 1.2829 - acc: 0.5091 - f1_m: 0.2868 - precision_m: 0.3718 - recall_m: 0.2738 - val_loss: 1.2659 - val_acc: 0.5083 - val_f1_m: 0.5099 - val_precision_m: 0.5160 - val_recall_m: 0.5040\n",
            "Epoch 3/100\n",
            " - 27s - loss: 1.1690 - acc: 0.5387 - f1_m: 0.4586 - precision_m: 0.6562 - recall_m: 0.3732 - val_loss: 1.1211 - val_acc: 0.5520 - val_f1_m: 0.5316 - val_precision_m: 0.6161 - val_recall_m: 0.4676\n",
            "Epoch 4/100\n",
            " - 27s - loss: 1.0772 - acc: 0.5705 - f1_m: 0.5199 - precision_m: 0.6580 - recall_m: 0.4312 - val_loss: 1.0981 - val_acc: 0.5599 - val_f1_m: 0.5363 - val_precision_m: 0.6197 - val_recall_m: 0.4728\n",
            "Epoch 5/100\n",
            " - 27s - loss: 1.0600 - acc: 0.5757 - f1_m: 0.5251 - precision_m: 0.6595 - recall_m: 0.4376 - val_loss: 1.0803 - val_acc: 0.5703 - val_f1_m: 0.5112 - val_precision_m: 0.6617 - val_recall_m: 0.4167\n",
            "Epoch 6/100\n",
            " - 27s - loss: 1.0515 - acc: 0.5794 - f1_m: 0.5283 - precision_m: 0.6608 - recall_m: 0.4413 - val_loss: 1.0720 - val_acc: 0.5686 - val_f1_m: 0.5240 - val_precision_m: 0.6558 - val_recall_m: 0.4365\n",
            "Epoch 7/100\n",
            " - 27s - loss: 1.0460 - acc: 0.5811 - f1_m: 0.5321 - precision_m: 0.6633 - recall_m: 0.4448 - val_loss: 1.0756 - val_acc: 0.5699 - val_f1_m: 0.5080 - val_precision_m: 0.6707 - val_recall_m: 0.4090\n",
            "Epoch 8/100\n",
            " - 27s - loss: 1.0437 - acc: 0.5816 - f1_m: 0.5327 - precision_m: 0.6628 - recall_m: 0.4460 - val_loss: 1.0790 - val_acc: 0.5664 - val_f1_m: 0.5364 - val_precision_m: 0.6334 - val_recall_m: 0.4653\n",
            "Epoch 9/100\n",
            " - 27s - loss: 1.0414 - acc: 0.5822 - f1_m: 0.5338 - precision_m: 0.6638 - recall_m: 0.4471 - val_loss: 1.0717 - val_acc: 0.5718 - val_f1_m: 0.5153 - val_precision_m: 0.6671 - val_recall_m: 0.4199\n",
            "Epoch 10/100\n",
            " - 27s - loss: 1.0404 - acc: 0.5829 - f1_m: 0.5356 - precision_m: 0.6642 - recall_m: 0.4497 - val_loss: 1.0677 - val_acc: 0.5721 - val_f1_m: 0.5232 - val_precision_m: 0.6597 - val_recall_m: 0.4336\n",
            "Epoch 11/100\n",
            " - 27s - loss: 1.0394 - acc: 0.5830 - f1_m: 0.5355 - precision_m: 0.6665 - recall_m: 0.4482 - val_loss: 1.0900 - val_acc: 0.5656 - val_f1_m: 0.4883 - val_precision_m: 0.6708 - val_recall_m: 0.3841\n",
            "Epoch 12/100\n",
            " - 27s - loss: 1.0375 - acc: 0.5843 - f1_m: 0.5368 - precision_m: 0.6651 - recall_m: 0.4506 - val_loss: 1.0758 - val_acc: 0.5691 - val_f1_m: 0.5385 - val_precision_m: 0.6365 - val_recall_m: 0.4668\n",
            "Epoch 13/100\n",
            " - 27s - loss: 1.0371 - acc: 0.5842 - f1_m: 0.5369 - precision_m: 0.6659 - recall_m: 0.4504 - val_loss: 1.0674 - val_acc: 0.5719 - val_f1_m: 0.5308 - val_precision_m: 0.6513 - val_recall_m: 0.4481\n",
            "Epoch 14/100\n",
            " - 27s - loss: 1.0355 - acc: 0.5853 - f1_m: 0.5377 - precision_m: 0.6672 - recall_m: 0.4509 - val_loss: 1.0755 - val_acc: 0.5713 - val_f1_m: 0.5076 - val_precision_m: 0.6703 - val_recall_m: 0.4085\n",
            "Epoch 15/100\n",
            " - 27s - loss: 1.0339 - acc: 0.5857 - f1_m: 0.5385 - precision_m: 0.6675 - recall_m: 0.4519 - val_loss: 1.0723 - val_acc: 0.5708 - val_f1_m: 0.5395 - val_precision_m: 0.6422 - val_recall_m: 0.4652\n",
            "Epoch 16/100\n",
            " - 27s - loss: 1.0336 - acc: 0.5865 - f1_m: 0.5384 - precision_m: 0.6671 - recall_m: 0.4519 - val_loss: 1.0702 - val_acc: 0.5730 - val_f1_m: 0.5218 - val_precision_m: 0.6634 - val_recall_m: 0.4302\n",
            "Epoch 17/100\n",
            " - 27s - loss: 1.0328 - acc: 0.5869 - f1_m: 0.5403 - precision_m: 0.6688 - recall_m: 0.4538 - val_loss: 1.0702 - val_acc: 0.5736 - val_f1_m: 0.5228 - val_precision_m: 0.6603 - val_recall_m: 0.4329\n",
            "Epoch 18/100\n",
            " - 27s - loss: 1.0333 - acc: 0.5861 - f1_m: 0.5382 - precision_m: 0.6653 - recall_m: 0.4524 - val_loss: 1.0683 - val_acc: 0.5722 - val_f1_m: 0.5348 - val_precision_m: 0.6498 - val_recall_m: 0.4545\n",
            "Epoch 19/100\n",
            " - 27s - loss: 1.0326 - acc: 0.5862 - f1_m: 0.5393 - precision_m: 0.6677 - recall_m: 0.4528 - val_loss: 1.0785 - val_acc: 0.5693 - val_f1_m: 0.5397 - val_precision_m: 0.6319 - val_recall_m: 0.4711\n",
            "Epoch 20/100\n",
            " - 27s - loss: 1.0325 - acc: 0.5860 - f1_m: 0.5390 - precision_m: 0.6668 - recall_m: 0.4530 - val_loss: 1.0673 - val_acc: 0.5733 - val_f1_m: 0.5301 - val_precision_m: 0.6592 - val_recall_m: 0.4435\n",
            "Epoch 21/100\n",
            " - 27s - loss: 1.0335 - acc: 0.5851 - f1_m: 0.5387 - precision_m: 0.6661 - recall_m: 0.4530 - val_loss: 1.0695 - val_acc: 0.5730 - val_f1_m: 0.5217 - val_precision_m: 0.6611 - val_recall_m: 0.4310\n",
            "Epoch 22/100\n",
            " - 27s - loss: 1.0305 - acc: 0.5874 - f1_m: 0.5411 - precision_m: 0.6680 - recall_m: 0.4553 - val_loss: 1.0652 - val_acc: 0.5733 - val_f1_m: 0.5297 - val_precision_m: 0.6593 - val_recall_m: 0.4429\n",
            "Epoch 23/100\n",
            " - 27s - loss: 1.0304 - acc: 0.5866 - f1_m: 0.5404 - precision_m: 0.6682 - recall_m: 0.4542 - val_loss: 1.0678 - val_acc: 0.5728 - val_f1_m: 0.5240 - val_precision_m: 0.6646 - val_recall_m: 0.4327\n",
            "Epoch 24/100\n",
            " - 27s - loss: 1.0295 - acc: 0.5877 - f1_m: 0.5402 - precision_m: 0.6686 - recall_m: 0.4538 - val_loss: 1.0667 - val_acc: 0.5726 - val_f1_m: 0.5353 - val_precision_m: 0.6479 - val_recall_m: 0.4561\n",
            "Epoch 25/100\n",
            " - 27s - loss: 1.0294 - acc: 0.5887 - f1_m: 0.5410 - precision_m: 0.6684 - recall_m: 0.4548 - val_loss: 1.0733 - val_acc: 0.5718 - val_f1_m: 0.5182 - val_precision_m: 0.6660 - val_recall_m: 0.4242\n",
            "Epoch 26/100\n",
            " - 27s - loss: 1.0292 - acc: 0.5883 - f1_m: 0.5414 - precision_m: 0.6684 - recall_m: 0.4554 - val_loss: 1.0693 - val_acc: 0.5707 - val_f1_m: 0.5357 - val_precision_m: 0.6481 - val_recall_m: 0.4567\n",
            "Epoch 27/100\n",
            " - 27s - loss: 1.0281 - acc: 0.5891 - f1_m: 0.5427 - precision_m: 0.6691 - recall_m: 0.4570 - val_loss: 1.0671 - val_acc: 0.5716 - val_f1_m: 0.5352 - val_precision_m: 0.6496 - val_recall_m: 0.4552\n",
            "Epoch 28/100\n",
            " - 27s - loss: 1.0283 - acc: 0.5879 - f1_m: 0.5422 - precision_m: 0.6703 - recall_m: 0.4560 - val_loss: 1.0655 - val_acc: 0.5729 - val_f1_m: 0.5273 - val_precision_m: 0.6610 - val_recall_m: 0.4387\n",
            "Epoch 29/100\n",
            " - 27s - loss: 1.0262 - acc: 0.5903 - f1_m: 0.5439 - precision_m: 0.6693 - recall_m: 0.4584 - val_loss: 1.0640 - val_acc: 0.5744 - val_f1_m: 0.5265 - val_precision_m: 0.6623 - val_recall_m: 0.4371\n",
            "Epoch 30/100\n",
            " - 27s - loss: 1.0258 - acc: 0.5890 - f1_m: 0.5430 - precision_m: 0.6698 - recall_m: 0.4571 - val_loss: 1.0661 - val_acc: 0.5742 - val_f1_m: 0.5366 - val_precision_m: 0.6467 - val_recall_m: 0.4587\n",
            "Epoch 31/100\n",
            " - 27s - loss: 1.0260 - acc: 0.5892 - f1_m: 0.5430 - precision_m: 0.6699 - recall_m: 0.4571 - val_loss: 1.0653 - val_acc: 0.5740 - val_f1_m: 0.5390 - val_precision_m: 0.6495 - val_recall_m: 0.4608\n",
            "Epoch 32/100\n",
            " - 27s - loss: 1.0238 - acc: 0.5909 - f1_m: 0.5455 - precision_m: 0.6716 - recall_m: 0.4598 - val_loss: 1.0624 - val_acc: 0.5740 - val_f1_m: 0.5348 - val_precision_m: 0.6563 - val_recall_m: 0.4515\n",
            "Epoch 33/100\n",
            " - 27s - loss: 1.0225 - acc: 0.5912 - f1_m: 0.5463 - precision_m: 0.6712 - recall_m: 0.4611 - val_loss: 1.0630 - val_acc: 0.5751 - val_f1_m: 0.5353 - val_precision_m: 0.6512 - val_recall_m: 0.4547\n",
            "Epoch 34/100\n",
            " - 27s - loss: 1.0213 - acc: 0.5910 - f1_m: 0.5470 - precision_m: 0.6722 - recall_m: 0.4616 - val_loss: 1.0623 - val_acc: 0.5773 - val_f1_m: 0.5298 - val_precision_m: 0.6629 - val_recall_m: 0.4413\n",
            "Epoch 35/100\n",
            " - 27s - loss: 1.0201 - acc: 0.5917 - f1_m: 0.5470 - precision_m: 0.6717 - recall_m: 0.4617 - val_loss: 1.0637 - val_acc: 0.5748 - val_f1_m: 0.5420 - val_precision_m: 0.6464 - val_recall_m: 0.4667\n",
            "Epoch 36/100\n",
            " - 27s - loss: 1.0195 - acc: 0.5933 - f1_m: 0.5476 - precision_m: 0.6697 - recall_m: 0.4638 - val_loss: 1.0597 - val_acc: 0.5776 - val_f1_m: 0.5355 - val_precision_m: 0.6583 - val_recall_m: 0.4515\n",
            "Epoch 37/100\n",
            " - 27s - loss: 1.0173 - acc: 0.5940 - f1_m: 0.5489 - precision_m: 0.6723 - recall_m: 0.4642 - val_loss: 1.0612 - val_acc: 0.5757 - val_f1_m: 0.5399 - val_precision_m: 0.6485 - val_recall_m: 0.4626\n",
            "Epoch 38/100\n",
            " - 27s - loss: 1.0167 - acc: 0.5929 - f1_m: 0.5500 - precision_m: 0.6726 - recall_m: 0.4656 - val_loss: 1.0592 - val_acc: 0.5770 - val_f1_m: 0.5397 - val_precision_m: 0.6519 - val_recall_m: 0.4605\n",
            "Epoch 39/100\n",
            " - 27s - loss: 1.0138 - acc: 0.5944 - f1_m: 0.5512 - precision_m: 0.6739 - recall_m: 0.4668 - val_loss: 1.0575 - val_acc: 0.5780 - val_f1_m: 0.5350 - val_precision_m: 0.6635 - val_recall_m: 0.4484\n",
            "Epoch 40/100\n",
            " - 27s - loss: 1.0124 - acc: 0.5959 - f1_m: 0.5524 - precision_m: 0.6740 - recall_m: 0.4685 - val_loss: 1.0574 - val_acc: 0.5772 - val_f1_m: 0.5336 - val_precision_m: 0.6617 - val_recall_m: 0.4472\n",
            "Epoch 41/100\n",
            " - 27s - loss: 1.0120 - acc: 0.5959 - f1_m: 0.5511 - precision_m: 0.6722 - recall_m: 0.4675 - val_loss: 1.0615 - val_acc: 0.5777 - val_f1_m: 0.5290 - val_precision_m: 0.6688 - val_recall_m: 0.4377\n",
            "Epoch 42/100\n",
            " - 27s - loss: 1.0092 - acc: 0.5959 - f1_m: 0.5544 - precision_m: 0.6753 - recall_m: 0.4705 - val_loss: 1.0565 - val_acc: 0.5782 - val_f1_m: 0.5329 - val_precision_m: 0.6631 - val_recall_m: 0.4457\n",
            "Epoch 43/100\n",
            " - 27s - loss: 1.0079 - acc: 0.5966 - f1_m: 0.5553 - precision_m: 0.6762 - recall_m: 0.4715 - val_loss: 1.0577 - val_acc: 0.5781 - val_f1_m: 0.5407 - val_precision_m: 0.6535 - val_recall_m: 0.4613\n",
            "Epoch 44/100\n",
            " - 27s - loss: 1.0077 - acc: 0.5978 - f1_m: 0.5545 - precision_m: 0.6745 - recall_m: 0.4711 - val_loss: 1.0587 - val_acc: 0.5792 - val_f1_m: 0.5306 - val_precision_m: 0.6647 - val_recall_m: 0.4417\n",
            "Epoch 45/100\n",
            " - 27s - loss: 1.0055 - acc: 0.5972 - f1_m: 0.5566 - precision_m: 0.6756 - recall_m: 0.4735 - val_loss: 1.0664 - val_acc: 0.5748 - val_f1_m: 0.5496 - val_precision_m: 0.6363 - val_recall_m: 0.4839\n",
            "Epoch 46/100\n",
            " - 27s - loss: 1.0044 - acc: 0.5984 - f1_m: 0.5575 - precision_m: 0.6757 - recall_m: 0.4749 - val_loss: 1.0564 - val_acc: 0.5791 - val_f1_m: 0.5385 - val_precision_m: 0.6569 - val_recall_m: 0.4565\n",
            "Epoch 47/100\n",
            " - 27s - loss: 1.0029 - acc: 0.5991 - f1_m: 0.5573 - precision_m: 0.6747 - recall_m: 0.4751 - val_loss: 1.0552 - val_acc: 0.5784 - val_f1_m: 0.5369 - val_precision_m: 0.6633 - val_recall_m: 0.4511\n",
            "Epoch 48/100\n",
            " - 27s - loss: 1.0021 - acc: 0.5997 - f1_m: 0.5578 - precision_m: 0.6753 - recall_m: 0.4755 - val_loss: 1.0558 - val_acc: 0.5791 - val_f1_m: 0.5394 - val_precision_m: 0.6572 - val_recall_m: 0.4575\n",
            "Epoch 49/100\n",
            " - 27s - loss: 1.0013 - acc: 0.5999 - f1_m: 0.5589 - precision_m: 0.6756 - recall_m: 0.4769 - val_loss: 1.0670 - val_acc: 0.5732 - val_f1_m: 0.5484 - val_precision_m: 0.6354 - val_recall_m: 0.4826\n",
            "Epoch 50/100\n",
            " - 27s - loss: 1.0015 - acc: 0.5993 - f1_m: 0.5581 - precision_m: 0.6750 - recall_m: 0.4763 - val_loss: 1.0594 - val_acc: 0.5746 - val_f1_m: 0.5482 - val_precision_m: 0.6431 - val_recall_m: 0.4778\n",
            "Epoch 51/100\n"
          ],
          "name": "stdout"
        }
      ]
    },
    {
      "cell_type": "code",
      "metadata": {
        "id": "oH4FkPzE-uQ_",
        "colab_type": "code",
        "colab": {}
      },
      "source": [
        "import matplotlib.pyplot as plt\n",
        "\n",
        "# Plot training & validation accuracy values\n",
        "plt.plot(output.history['acc'])\n",
        "plt.plot(output.history['val_acc'])\n",
        "plt.title('Model accuracy')\n",
        "plt.ylabel('Accuracy')\n",
        "plt.xlabel('Epoch')\n",
        "plt.legend(['Train', 'Validation'], loc='upper left')\n",
        "plt.show()\n",
        "\n",
        "# Plot training & validation loss values\n",
        "plt.plot(output.history['loss'])\n",
        "plt.plot(output.history['val_loss'])\n",
        "plt.title('Model loss')\n",
        "plt.ylabel('Loss')\n",
        "plt.xlabel('Epoch')\n",
        "plt.legend(['Train', 'Validation'], loc='upper left')\n",
        "plt.show()"
      ],
      "execution_count": 0,
      "outputs": []
    },
    {
      "cell_type": "markdown",
      "metadata": {
        "id": "olYmXR6sBy9H",
        "colab_type": "text"
      },
      "source": [
        ""
      ]
    },
    {
      "cell_type": "code",
      "metadata": {
        "id": "dyhg7A1cEQ7-",
        "colab_type": "code",
        "colab": {}
      },
      "source": [
        "#to save the model\n",
        "!apt-get install libhdf5-serial-dev\n",
        "import h5py\n",
        "cnnmodel.save('/content/drive/My Drive/NLP_Assignment_2/0876833_1dconv_reg.h5')"
      ],
      "execution_count": 0,
      "outputs": []
    },
    {
      "cell_type": "code",
      "metadata": {
        "id": "R-mjWhC6EWKp",
        "colab_type": "code",
        "colab": {}
      },
      "source": [
        "#loading the model\n",
        "from keras.models import load_model\n",
        "!apt-get install libhdf5-serial-dev\n",
        "import h5py\n",
        "cnnmodel = load_model('/content/drive/My Drive/NLP_Assignment_2/0876888_1dconv_reg.h5', custom_objects={'f1_m': f1_m,'precision_m':precision_m,'recall_m':recall_m})"
      ],
      "execution_count": 0,
      "outputs": []
    }
  ]
}